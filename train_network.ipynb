{
 "cells": [
  {
   "cell_type": "code",
   "execution_count": 1,
   "id": "597d4990",
   "metadata": {},
   "outputs": [],
   "source": [
    "import numpy as np\n",
    "import torch.nn as nn\n",
    "import torch\n",
    "from torch.utils.tensorboard import SummaryWriter\n",
    "import torch.optim as optim\n",
    "import time"
   ]
  },
  {
   "cell_type": "code",
   "execution_count": 2,
   "id": "a818676f",
   "metadata": {},
   "outputs": [
    {
     "name": "stdout",
     "output_type": "stream",
     "text": [
      "110\n"
     ]
    }
   ],
   "source": [
    "import ipynb.fs.full.utils as utils\n",
    "import ipynb.fs.full.dataloader as dataloader\n",
    "import ipynb.fs.full.network as network"
   ]
  },
  {
   "cell_type": "code",
   "execution_count": 3,
   "id": "cf8c2b4a",
   "metadata": {},
   "outputs": [],
   "source": [
    "BATCH_SIZE = 8\n",
    "SUBSAMPLE_SIZE = 2500\n",
    "SETS = 4\n",
    "EPOCHS = 20\n",
    "IN_FEATURES = dataloader.get_num_features() \n",
    "LAYER_SIZES = [20, 20, 20, 20, 2]\n",
    "LR = .001\n",
    "LR_DECAY= 1e-7\n",
    "DEVICE = torch.device('cuda:0' if torch.cuda.is_available() else 'cpu')\n",
    "\n",
    "model = network.Network(IN_FEATURES, LAYER_SIZES) \n",
    "criterion = nn.CrossEntropyLoss()\n",
    "writer = SummaryWriter()\n",
    "optimizer = torch.optim.Adagrad(\n",
    "        model.parameters(), \n",
    "        lr=LR, \n",
    "        lr_decay=LR_DECAY\n",
    "       )"
   ]
  },
  {
   "cell_type": "code",
   "execution_count": 4,
   "id": "832a3ddf",
   "metadata": {},
   "outputs": [],
   "source": [
    "def get_num_correct(output, labels):\n",
    "    output_softmax = nn.functional.softmax(output, dim = 1)\n",
    "    pred = torch.argmax(output_softmax, dim=1)\n",
    "    return np.sum(np.array(pred)== np.array(labels))\n",
    "\n",
    "def train(train_loader, dataset_length, log_tensorboard=False):\n",
    "    training_losses = []\n",
    "    training_accuracies = []\n",
    "    for epoch in range(EPOCHS):\n",
    "        ts = time.time()\n",
    "        losses = []\n",
    "        total_correct = 0\n",
    "        for iter, (inputs, labels) in enumerate(train_loader):\n",
    "            ## need to debug all outputs are zero\n",
    "            # reset optimizer gradients\n",
    "            optimizer.zero_grad()\n",
    "\n",
    "            # send inputs and labels to the same device\n",
    "            inputs = inputs.type(torch.FloatTensor).to(DEVICE)\n",
    "            labels = labels.type(torch.FloatTensor).to(DEVICE)\n",
    "            model.to(DEVICE)\n",
    "\n",
    "            writer.add_graph(model, inputs)\n",
    "\n",
    "            outputs = model(inputs)\n",
    "\n",
    "            outputs = outputs.type(torch.FloatTensor).to(DEVICE)\n",
    "            labels = labels.type(torch.LongTensor).to(DEVICE)\n",
    "\n",
    "            loss = criterion(outputs, labels)\n",
    "            losses.append(loss.item())\n",
    "            total_correct += get_num_correct(outputs, labels)\n",
    "            \n",
    "            if log_tensorboard:\n",
    "                writer.add_scalar(\"Batch Loss\", loss.item(), iter)\n",
    "\n",
    "            #backprop\n",
    "            loss.backward()\n",
    "\n",
    "            # update weights\n",
    "            optimizer.step()\n",
    "\n",
    "            if iter % 150 == 0:\n",
    "                print(\"epoch: {}, iter: {}, loss: {}\".format(epoch, iter, loss.item()))\n",
    "\n",
    "        print(\"Finish epoch {}, time elapsed {}\".format(epoch, time.time() - ts))\n",
    "        average_loss = np.mean(np.array(losses))\n",
    "        accuracy = total_correct/dataset_length\n",
    "\n",
    "        if log_tensorboard:\n",
    "            writer.add_scalar(\"Loss/train\", average_loss, epoch)\n",
    "            writer.add_scalar(\"Correct\", total_correct, epoch)\n",
    "            writer.add_scalar(\"Accuracy\", accuracy, epoch)\n",
    "\n",
    "        training_losses.append(average_loss)\n",
    "        training_accuracies.append(accuracy)\n",
    "\n",
    "    return training_losses, training_accuracies"
   ]
  },
  {
   "cell_type": "code",
   "execution_count": 5,
   "id": "c336178a",
   "metadata": {},
   "outputs": [
    {
     "name": "stdout",
     "output_type": "stream",
     "text": [
      "epoch: 0, iter: 0, loss: 0.6399247050285339\n",
      "epoch: 0, iter: 150, loss: 0.8540658950805664\n",
      "epoch: 0, iter: 300, loss: 0.8546381592750549\n",
      "Finish epoch 0, time elapsed 5.680239915847778\n",
      "epoch: 1, iter: 0, loss: 0.562335729598999\n",
      "epoch: 1, iter: 150, loss: 0.8505533933639526\n",
      "epoch: 1, iter: 300, loss: 0.8486160039901733\n",
      "Finish epoch 1, time elapsed 5.5782599449157715\n",
      "epoch: 2, iter: 0, loss: 0.5623401403427124\n",
      "epoch: 2, iter: 150, loss: 0.8480352163314819\n",
      "epoch: 2, iter: 300, loss: 0.8431487083435059\n",
      "Finish epoch 2, time elapsed 5.516380786895752\n",
      "epoch: 3, iter: 0, loss: 0.5623412132263184\n",
      "epoch: 3, iter: 150, loss: 0.846619188785553\n",
      "epoch: 3, iter: 300, loss: 0.838441014289856\n",
      "Finish epoch 3, time elapsed 5.600219249725342\n",
      "epoch: 4, iter: 0, loss: 0.5623416900634766\n",
      "epoch: 4, iter: 150, loss: 0.8457176685333252\n",
      "epoch: 4, iter: 300, loss: 0.834279477596283\n",
      "Finish epoch 4, time elapsed 5.620362758636475\n",
      "epoch: 5, iter: 0, loss: 0.5623420476913452\n",
      "epoch: 5, iter: 150, loss: 0.8450899124145508\n",
      "epoch: 5, iter: 300, loss: 0.8305257558822632\n",
      "Finish epoch 5, time elapsed 5.623054027557373\n",
      "epoch: 6, iter: 0, loss: 0.5623422861099243\n",
      "epoch: 6, iter: 150, loss: 0.8446263670921326\n",
      "epoch: 6, iter: 300, loss: 0.8270925283432007\n",
      "Finish epoch 6, time elapsed 5.547506809234619\n",
      "epoch: 7, iter: 0, loss: 0.5623425245285034\n",
      "epoch: 7, iter: 150, loss: 0.8442695140838623\n",
      "epoch: 7, iter: 300, loss: 0.8239234089851379\n",
      "Finish epoch 7, time elapsed 5.600535154342651\n",
      "epoch: 8, iter: 0, loss: 0.5623428225517273\n",
      "epoch: 8, iter: 150, loss: 0.8439874053001404\n",
      "epoch: 8, iter: 300, loss: 0.8209792971611023\n",
      "Finish epoch 8, time elapsed 5.945302963256836\n",
      "epoch: 9, iter: 0, loss: 0.5623430609703064\n",
      "epoch: 9, iter: 150, loss: 0.8437584042549133\n",
      "epoch: 9, iter: 300, loss: 0.8182283043861389\n",
      "Finish epoch 9, time elapsed 6.458728790283203\n",
      "epoch: 10, iter: 0, loss: 0.5623432993888855\n",
      "epoch: 10, iter: 150, loss: 0.8435709476470947\n",
      "epoch: 10, iter: 300, loss: 0.8156498670578003\n",
      "Finish epoch 10, time elapsed 5.853796005249023\n",
      "epoch: 11, iter: 0, loss: 0.5623434782028198\n",
      "epoch: 11, iter: 150, loss: 0.843415379524231\n",
      "epoch: 11, iter: 300, loss: 0.8132243156433105\n",
      "Finish epoch 11, time elapsed 5.820419073104858\n",
      "epoch: 12, iter: 0, loss: 0.5623436570167542\n",
      "epoch: 12, iter: 150, loss: 0.8432837724685669\n",
      "epoch: 12, iter: 300, loss: 0.8109358549118042\n",
      "Finish epoch 12, time elapsed 5.8476722240448\n",
      "epoch: 13, iter: 0, loss: 0.5623438954353333\n",
      "epoch: 13, iter: 150, loss: 0.8431738018989563\n",
      "epoch: 13, iter: 300, loss: 0.8087731003761292\n",
      "Finish epoch 13, time elapsed 5.75518012046814\n",
      "epoch: 14, iter: 0, loss: 0.5623441934585571\n",
      "epoch: 14, iter: 150, loss: 0.8430808782577515\n",
      "epoch: 14, iter: 300, loss: 0.806723952293396\n",
      "Finish epoch 14, time elapsed 5.765388011932373\n",
      "epoch: 15, iter: 0, loss: 0.5623444318771362\n",
      "epoch: 15, iter: 150, loss: 0.8430020809173584\n",
      "epoch: 15, iter: 300, loss: 0.8047781586647034\n",
      "Finish epoch 15, time elapsed 5.770793199539185\n",
      "epoch: 16, iter: 0, loss: 0.5623447299003601\n",
      "epoch: 16, iter: 150, loss: 0.8429348468780518\n",
      "epoch: 16, iter: 300, loss: 0.8029263019561768\n",
      "Finish epoch 16, time elapsed 5.781346082687378\n",
      "epoch: 17, iter: 0, loss: 0.5623449683189392\n",
      "epoch: 17, iter: 150, loss: 0.842876672744751\n",
      "epoch: 17, iter: 300, loss: 0.8011608123779297\n",
      "Finish epoch 17, time elapsed 6.331039190292358\n",
      "epoch: 18, iter: 0, loss: 0.5623452663421631\n",
      "epoch: 18, iter: 150, loss: 0.8428277373313904\n",
      "epoch: 18, iter: 300, loss: 0.7994747757911682\n",
      "Finish epoch 18, time elapsed 6.874950170516968\n",
      "epoch: 19, iter: 0, loss: 0.5623455047607422\n",
      "epoch: 19, iter: 150, loss: 0.8427864909172058\n",
      "epoch: 19, iter: 300, loss: 0.7978613376617432\n",
      "Finish epoch 19, time elapsed 6.058167934417725\n"
     ]
    }
   ],
   "source": [
    "datasets = dataloader.get_datasets(SUBSAMPLE_SIZE, SETS)\n",
    "dataloaders = dataloader.get_loaders(\n",
    "        datasets,\n",
    "        BATCH_SIZE \n",
    "        )\n",
    "\n",
    "d1 = datasets[0]\n",
    "# might be able to get the length of the dataset\n",
    "# from the loader\n",
    "d1_loader = dataloaders[0]\n",
    "\n",
    "training_losses, training_accuracies = train(\n",
    "        d1_loader, \n",
    "        dataset_length=len(d1),\n",
    "        log_tensorboard=False\n",
    "        )\n",
    "writer.flush()\n",
    "writer.close()"
   ]
  },
  {
   "cell_type": "code",
   "execution_count": 6,
   "id": "753456b6",
   "metadata": {},
   "outputs": [
    {
     "data": {
      "image/png": "[encoded data removed]",
      "text/plain": [
       "<Figure size 594x324 with 1 Axes>"
      ]
     },
     "metadata": {
      "needs_background": "light"
     },
     "output_type": "display_data"
    }
   ],
   "source": [
    "utils.plot_losses(training_losses)"
   ]
  },
  {
   "cell_type": "code",
   "execution_count": 7,
   "id": "c6e6cdc9",
   "metadata": {},
   "outputs": [
    {
     "data": {
      "image/png": "[encoded data removed]",
      "text/plain": [
       "<Figure size 594x324 with 1 Axes>"
      ]
     },
     "metadata": {
      "needs_background": "light"
     },
     "output_type": "display_data"
    }
   ],
   "source": [
    "utils.plot_accuracies(training_accuracies)"
   ]
  },
  {
   "cell_type": "code",
   "execution_count": 8,
   "id": "358e8f5f",
   "metadata": {},
   "outputs": [
    {
     "name": "stdout",
     "output_type": "stream",
     "text": [
      "Final Training Accuracy for one run\n",
      "0.75\n"
     ]
    }
   ],
   "source": [
    "# In the Paper they achieve average .85 training accuracy. \n",
    "# I have not tuned any hyperparameters\n",
    "print(\"Final Training Accuracy for one run\")\n",
    "print(training_accuracies[-1])"
   ]
  }
 ],
 "metadata": {
  "kernelspec": {
   "display_name": "Python 3 (ipykernel)",
   "language": "python",
   "name": "python3"
  },
  "language_info": {
   "codemirror_mode": {
    "name": "ipython",
    "version": 3
   },
   "file_extension": ".py",
   "mimetype": "text/x-python",
   "name": "python",
   "nbconvert_exporter": "python",
   "pygments_lexer": "ipython3",
   "version": "3.9.7"
  }
 },
 "nbformat": 4,
 "nbformat_minor": 5
}
