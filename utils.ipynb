{
 "cells": [
  {
   "cell_type": "code",
   "execution_count": 1,
   "id": "0c45eb45",
   "metadata": {},
   "outputs": [],
   "source": [
    "import numpy as np\n",
    "import matplotlib.pyplot as plt\n",
    "import pandas as pd"
   ]
  },
  {
   "cell_type": "code",
   "execution_count": 2,
   "id": "99d90d37",
   "metadata": {},
   "outputs": [],
   "source": [
    "def subsample(X, y, subsample_size, num_sets, is_disjoint=True):\n",
    "    total_sample = subsample_size * num_sets\n",
    "    indices = np.random.choice(\n",
    "            X.shape[0], \n",
    "            total_sample, \n",
    "            replace = not is_disjoint\n",
    "            )\n",
    "    random_X = X[indices]\n",
    "    random_y = y[indices]\n",
    "\n",
    "    X_sets = np.split(random_X, num_sets)\n",
    "    y_sets = np.split(random_y, num_sets)\n",
    "\n",
    "    return list(zip(X_sets, y_sets))"
   ]
  },
  {
   "cell_type": "code",
   "execution_count": 3,
   "id": "e0d46146",
   "metadata": {},
   "outputs": [],
   "source": [
    "df = pd.read_csv(\"data/adult.csv\")\n",
    "updated_df = pd.get_dummies(df)\n",
    "updated_df = updated_df.drop_duplicates()\n",
    "dataset = updated_df.to_numpy()\n",
    "\n",
    "# remove the columns for income_<=50K and income_>50K\n",
    "# y values are income_>50K\n",
    "Y = dataset[:, -1]\n",
    "X = np.delete(dataset, -1, axis = 1)\n",
    "X = np.delete(X, -1, axis = 1)\n",
    "subsamples = subsample(X, Y, 2500, 2, is_disjoint=True) \n",
    "assert len(subsamples) == 2\n",
    "(d1_X, d1_y), (d2_X, d2_y) = subsamples[0], subsamples[1]\n",
    "\n",
    "assert d1_X.shape == (2500, X.shape[1])\n",
    "assert d1_y.shape == (2500, )\n",
    "\n",
    "total_samples = np.concatenate((d1_X, d2_X), axis=0)\n",
    "unique_values = len(set(map(tuple, total_samples)))\n",
    "\n",
    "assert unique_values == 2500 * 2\n",
    "\n",
    "subsamples = subsample(X[:3000], Y[:3000], 2500, 2, is_disjoint=False) \n",
    "(d1_X, d1_y), (d2_X, d2_y) = subsamples[0], subsamples[1]\n",
    "\n",
    "assert d1_X.shape == (2500, X.shape[1])\n",
    "assert d1_y.shape == (2500, )\n",
    "\n",
    "total_samples = np.concatenate((d1_X, d2_X), axis=0)\n",
    "unique_values = len(set(map(tuple, total_samples)))"
   ]
  },
  {
   "cell_type": "code",
   "execution_count": 4,
   "id": "a9cb8056",
   "metadata": {},
   "outputs": [],
   "source": [
    "def plot_losses(losses):\n",
    "    epochs = np.arange(len(losses))\n",
    "    plt.plot(epochs, losses)\n",
    "    plt.xlabel('Number of Epochs', fontsize=14)\n",
    "    plt.ylabel('Cross Entropy Loss', fontsize=14)\n",
    "    plt.title('Plot of Loss vs Epochs', fontsize=14)\n",
    "    plt.xticks(fontsize=14)\n",
    "    plt.yticks(fontsize=14)\n",
    "    fig = plt.gcf()\n",
    "    fig.set_size_inches(8.25, 4.5)\n",
    "    plt.show()\n",
    "\n",
    "def plot_accuracies(accuracies):\n",
    "    epochs = np.arange(len(accuracies))\n",
    "    plt.plot(epochs, accuracies)\n",
    "    plt.xlabel('Number of Epochs', fontsize=14)\n",
    "    plt.ylabel('Accuracy', fontsize=14)\n",
    "    plt.title('Plot of Accuracy vs Epochs', fontsize=14)\n",
    "    plt.xticks(fontsize=14)\n",
    "    plt.yticks(fontsize=14)\n",
    "    fig = plt.gcf()\n",
    "    fig.set_size_inches(8.25, 4.5)\n",
    "    plt.show()\n",
    "\n",
    "assert unique_values < 2500 * 2"
   ]
  }
 ],
 "metadata": {
  "kernelspec": {
   "display_name": "Python 3 (ipykernel)",
   "language": "python",
   "name": "python3"
  },
  "language_info": {
   "codemirror_mode": {
    "name": "ipython",
    "version": 3
   },
   "file_extension": ".py",
   "mimetype": "text/x-python",
   "name": "python",
   "nbconvert_exporter": "python",
   "pygments_lexer": "ipython3",
   "version": "3.9.7"
  }
 },
 "nbformat": 4,
 "nbformat_minor": 5
}
