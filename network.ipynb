{
 "cells": [
  {
   "cell_type": "code",
   "execution_count": 1,
   "id": "079111db",
   "metadata": {},
   "outputs": [],
   "source": [
    "import torch.nn as nn\n",
    "import torch"
   ]
  },
  {
   "cell_type": "code",
   "execution_count": 2,
   "id": "e5dbba5a",
   "metadata": {},
   "outputs": [],
   "source": [
    "class Network(nn.Module):\n",
    "    def __init__(self, in_features, layer_sizes):\n",
    "        super().__init__()\n",
    "        self.net = nn.Sequential(\n",
    "                    nn.Linear(in_features, layer_sizes[0]),\n",
    "                    nn.Tanh(),\n",
    "                    nn.Linear(layer_sizes[0], layer_sizes[1]),\n",
    "                    nn.Tanh(),\n",
    "                    nn.Linear(layer_sizes[2], layer_sizes[3]),\n",
    "                    nn.Tanh(),\n",
    "                    nn.Linear(layer_sizes[3], layer_sizes[4])\n",
    "                )\n",
    "        self.net.apply(self.__init_weights)\n",
    "\n",
    "    def __init_weights(self, layer):\n",
    "        if type(layer) == nn.Linear:\n",
    "            torch.nn.init.xavier_uniform_(layer.weight.data)\n",
    "            torch.nn.init.normal_(layer.bias.data)\n",
    "\n",
    "    def forward(self, x):\n",
    "        return self.net(x)"
   ]
  }
 ],
 "metadata": {
  "kernelspec": {
   "display_name": "Python 3 (ipykernel)",
   "language": "python",
   "name": "python3"
  },
  "language_info": {
   "codemirror_mode": {
    "name": "ipython",
    "version": 3
   },
   "file_extension": ".py",
   "mimetype": "text/x-python",
   "name": "python",
   "nbconvert_exporter": "python",
   "pygments_lexer": "ipython3",
   "version": "3.9.7"
  }
 },
 "nbformat": 4,
 "nbformat_minor": 5
}
